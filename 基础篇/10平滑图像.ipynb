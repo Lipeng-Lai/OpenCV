{
 "cells": [
  {
   "cell_type": "markdown",
   "metadata": {},
   "source": [
    "## 均值滤波\n",
    "\n",
    "使用cv2.bluer()实现\n",
    "\n",
    "$$\n",
    "kernel = \\frac{1}{9} \\begin{bmatrix}\n",
    "1&1&1 \\\\\n",
    "1&1&1 \\\\\n",
    "1&1&1\n",
    "\\end{bmatrix}\n",
    "$$"
   ]
  },
  {
   "cell_type": "code",
   "execution_count": 1,
   "metadata": {},
   "outputs": [
    {
     "data": {
      "text/plain": [
       "-1"
      ]
     },
     "execution_count": 1,
     "metadata": {},
     "output_type": "execute_result"
    }
   ],
   "source": [
    "import cv2\n",
    "import numpy as np\n",
    "\n",
    "img = cv2.imread('pink_wwd.jpg')\n",
    "blur = cv2.blur(img, (3, 3))\n",
    "\n",
    "cv2.imshow('blur', blur)\n",
    "cv2.waitKey(0)"
   ]
  },
  {
   "cell_type": "markdown",
   "metadata": {},
   "source": [
    "## 方框滤波\n",
    "\n",
    "使用cv.boxFilter()实现，当参数normalize为True时，方框滤波即为均值滤波，反之为False时，则为区域内的像素和"
   ]
  },
  {
   "cell_type": "code",
   "execution_count": 2,
   "metadata": {},
   "outputs": [
    {
     "data": {
      "text/plain": [
       "-1"
      ]
     },
     "execution_count": 2,
     "metadata": {},
     "output_type": "execute_result"
    }
   ],
   "source": [
    "blur = cv2.boxFilter(img, -1, (3, 3), normalize=False)\n",
    "\n",
    "cv2.imshow('blur', blur)\n",
    "cv2.waitKey(0)"
   ]
  },
  {
   "cell_type": "markdown",
   "metadata": {},
   "source": [
    "## 高斯滤波\n",
    "\n",
    "对应实现为cv2.GaussianBlur(src, ksize, sigmaX)\n",
    "\n",
    "$$\n",
    "k = \\begin{bmatrix}\n",
    "0.0625 & 0.125 & 0.0625 \\\\\n",
    "0.125 & 0.25 & 0.125 \\\\\n",
    "0.0625 & 0.125 & 0.0625\n",
    "\\end{bmatrix}\n",
    "$$"
   ]
  },
  {
   "cell_type": "code",
   "execution_count": 5,
   "metadata": {},
   "outputs": [
    {
     "data": {
      "text/plain": [
       "-1"
      ]
     },
     "execution_count": 5,
     "metadata": {},
     "output_type": "execute_result"
    }
   ],
   "source": [
    "img = cv2.imread('pink_wwd.jpg')\n",
    "\n",
    "blur = cv2.blur(img, (5, 5))\n",
    "gaussian = cv2.GaussianBlur(img, (5, 5), 1)\n",
    "temp = np.hstack((blur, gaussian))\n",
    "\n",
    "cv2.imshow('temp', temp)\n",
    "cv2.waitKey(0)"
   ]
  },
  {
   "cell_type": "markdown",
   "metadata": {},
   "source": [
    "## 中值滤波\n",
    "\n",
    "中值又叫中位数，是所有数排序后取中间的值。中值滤波就是用区域内的中值来代替本像素值，所以那种孤立的斑点，如 0 或 255 很容易消除掉，适用于去除椒盐噪声和斑点噪声。中值是一种非线性操作，效率相比前面几种线性滤波要慢"
   ]
  },
  {
   "cell_type": "code",
   "execution_count": 7,
   "metadata": {},
   "outputs": [
    {
     "data": {
      "text/plain": [
       "-1"
      ]
     },
     "execution_count": 7,
     "metadata": {},
     "output_type": "execute_result"
    }
   ],
   "source": [
    "img = cv2.imread('pink_wwd.jpg')\n",
    "\n",
    "blur = cv2.blur(img, (5, 5))\n",
    "median = cv2.medianBlur(img, 5)\n",
    "temp = np.hstack((blur, median))\n",
    "\n",
    "cv2.imshow('temp', temp)\n",
    "cv2.waitKey(0)"
   ]
  },
  {
   "cell_type": "markdown",
   "metadata": {},
   "source": [
    "## 双边滤波\n",
    "\n",
    "保留图像的边缘，使用cv2.bilateraFilter()函数实现"
   ]
  },
  {
   "cell_type": "code",
   "execution_count": 8,
   "metadata": {},
   "outputs": [
    {
     "data": {
      "text/plain": [
       "-1"
      ]
     },
     "execution_count": 8,
     "metadata": {},
     "output_type": "execute_result"
    }
   ],
   "source": [
    "img = cv2.imread('pink_wwd.jpg')\n",
    "\n",
    "gau = cv2.GaussianBlur(img, (5, 5), 0)\n",
    "blur = cv2.bilateralFilter(img, 9, 75, 75)\n",
    "\n",
    "temp = np.hstack((gau, blur))\n",
    "cv2.imshow('temp', temp)\n",
    "cv2.waitKey(0)"
   ]
  },
  {
   "cell_type": "code",
   "execution_count": null,
   "metadata": {},
   "outputs": [],
   "source": []
  }
 ],
 "metadata": {
  "kernelspec": {
   "display_name": "base",
   "language": "python",
   "name": "python3"
  },
  "language_info": {
   "codemirror_mode": {
    "name": "ipython",
    "version": 3
   },
   "file_extension": ".py",
   "mimetype": "text/x-python",
   "name": "python",
   "nbconvert_exporter": "python",
   "pygments_lexer": "ipython3",
   "version": "3.10.12"
  },
  "orig_nbformat": 4
 },
 "nbformat": 4,
 "nbformat_minor": 2
}
