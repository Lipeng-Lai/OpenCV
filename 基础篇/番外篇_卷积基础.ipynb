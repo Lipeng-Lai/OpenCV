{
 "cells": [
  {
   "cell_type": "markdown",
   "metadata": {},
   "source": [
    "## OpenCV进行卷积\n",
    "\n",
    "OpenCV中使用cv2.filter2D进行卷积操作，比如下面的卷积核为：\n",
    "\n",
    "$$\n",
    "M = \\frac{1}{10} \\begin{bmatrix}\n",
    "1&1&1 \\\\\n",
    "1&1&1 \\\\\n",
    "1&1&1\n",
    "\\end{bmatrix}\n",
    "$$"
   ]
  },
  {
   "cell_type": "code",
   "execution_count": 5,
   "metadata": {},
   "outputs": [
    {
     "data": {
      "text/plain": [
       "-1"
      ]
     },
     "execution_count": 5,
     "metadata": {},
     "output_type": "execute_result"
    }
   ],
   "source": [
    "import cv2\n",
    "import numpy as np\n",
    "\n",
    "img = cv2.imread('pink_wwd.jpg')\n",
    "\n",
    "kernel = np.ones((3, 3), np.float32) / 10\n",
    "\n",
    "dst = cv2.filter2D(img, -1, kernel)\n",
    "tmp = np.hstack((img, dst)) # 两张图横向合并\n",
    "\n",
    "cv2.imshow('tmp', tmp)\n",
    "cv2.waitKey(0)"
   ]
  },
  {
   "cell_type": "code",
   "execution_count": null,
   "metadata": {},
   "outputs": [],
   "source": []
  }
 ],
 "metadata": {
  "kernelspec": {
   "display_name": "base",
   "language": "python",
   "name": "python3"
  },
  "language_info": {
   "codemirror_mode": {
    "name": "ipython",
    "version": 3
   },
   "file_extension": ".py",
   "mimetype": "text/x-python",
   "name": "python",
   "nbconvert_exporter": "python",
   "pygments_lexer": "ipython3",
   "version": "3.10.12"
  },
  "orig_nbformat": 4
 },
 "nbformat": 4,
 "nbformat_minor": 2
}
