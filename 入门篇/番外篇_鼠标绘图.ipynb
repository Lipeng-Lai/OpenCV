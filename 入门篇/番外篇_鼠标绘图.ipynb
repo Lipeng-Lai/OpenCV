{
 "cells": [
  {
   "cell_type": "code",
   "execution_count": 1,
   "metadata": {},
   "outputs": [
    {
     "name": "stdout",
     "output_type": "stream",
     "text": [
      "87 212\n",
      "170 113\n",
      "252 107\n",
      "353 283\n",
      "238 316\n",
      "196 383\n",
      "144 408\n",
      "358 322\n",
      "390 419\n",
      "384 276\n",
      "384 143\n",
      "365 137\n"
     ]
    }
   ],
   "source": [
    "import cv2\n",
    "import numpy as np\n",
    "\n",
    "# 鼠标的回调函数\n",
    "def mouse_event(event, x, y, flags, param):\n",
    "    if event == cv2.EVENT_LBUTTONDOWN:\n",
    "        print(x, y)\n",
    "\n",
    "img = np.zeros((512, 512, 3), np.uint8)\n",
    "cv2.namedWindow('image')\n",
    "\n",
    "# 定义鼠标的回调函数\n",
    "cv2.setMouseCallback('image', mouse_event)\n",
    "\n",
    "while(True):\n",
    "    cv2.imshow('image', img)\n",
    "    # 按下Esc退出\n",
    "    if cv2.waitKey(20) == 27:\n",
    "        break"
   ]
  },
  {
   "cell_type": "code",
   "execution_count": 2,
   "metadata": {},
   "outputs": [],
   "source": [
    "import cv2\n",
    "import numpy as np\n",
    "\n",
    "drawing = False  # 是否开始画图\n",
    "mode = True  # True：画矩形，False：画圆\n",
    "start = (-1, -1)\n",
    "\n",
    "def mouse_event(event, x, y, flags, param):\n",
    "    global start, drawing, mode\n",
    "\n",
    "    # 左键按下：开始画图\n",
    "    if event == cv2.EVENT_LBUTTONDOWN:\n",
    "        drawing = True\n",
    "        start = (x, y)\n",
    "    # 鼠标移动，画图\n",
    "    elif event == cv2.EVENT_MOUSEMOVE:\n",
    "        if drawing:\n",
    "            if mode:\n",
    "                cv2.rectangle(img, start, (x, y), (0, 255, 0), 1)\n",
    "            else:\n",
    "                cv2.circle(img, (x, y), 5, (0, 0, 255), -1)\n",
    "    # 左键释放：结束画图\n",
    "    elif event == cv2.EVENT_LBUTTONUP:\n",
    "        drawing = False\n",
    "        if mode:\n",
    "            cv2.rectangle(img, start, (x, y), (0, 255, 0), 1)\n",
    "        else:\n",
    "            cv2.circle(img, (x, y), 5, (0, 0, 255), -1)\n",
    "\n",
    "\n",
    "img = np.zeros((512, 512, 3), np.uint8)\n",
    "cv2.namedWindow('image')\n",
    "cv2.setMouseCallback('image', mouse_event)\n",
    "\n",
    "while(True):\n",
    "    cv2.imshow('image', img)\n",
    "    # 按下 m 切换模式\n",
    "    if cv2.waitKey(1) == ord('m'):\n",
    "        mode = not mode\n",
    "    elif cv2.waitKey(1) == 27:\n",
    "        break"
   ]
  },
  {
   "cell_type": "code",
   "execution_count": null,
   "metadata": {},
   "outputs": [],
   "source": []
  }
 ],
 "metadata": {
  "kernelspec": {
   "display_name": "base",
   "language": "python",
   "name": "python3"
  },
  "language_info": {
   "codemirror_mode": {
    "name": "ipython",
    "version": 3
   },
   "file_extension": ".py",
   "mimetype": "text/x-python",
   "name": "python",
   "nbconvert_exporter": "python",
   "pygments_lexer": "ipython3",
   "version": "3.10.12"
  },
  "orig_nbformat": 4
 },
 "nbformat": 4,
 "nbformat_minor": 2
}
