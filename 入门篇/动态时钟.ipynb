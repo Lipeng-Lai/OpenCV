{
 "cells": [
  {
   "cell_type": "markdown",
   "metadata": {},
   "source": [
    "## 绘制表盘"
   ]
  },
  {
   "cell_type": "code",
   "execution_count": 9,
   "metadata": {},
   "outputs": [
    {
     "data": {
      "text/plain": [
       "-1"
      ]
     },
     "execution_count": 9,
     "metadata": {},
     "output_type": "execute_result"
    }
   ],
   "source": [
    "import cv2\n",
    "import math\n",
    "import datetime\n",
    "import numpy as np\n",
    "\n",
    "margin = 5 # 上下左右边距\n",
    "radius = 220 # 圆的半径\n",
    "center = (center_x, center_y) = (225, 225) # 圆心\n",
    "\n",
    "# 1. 新建一个画板并填充成白色\n",
    "img = np.zeros((450, 450, 3), np.uint8)\n",
    "img[:] = (255, 255, 255)\n",
    "\n",
    "# 2. 画出画盘\n",
    "cv2.circle(img, center, radius, (0, 0, 0), thickness=5)\n",
    "cv2.imshow('img', img)\n",
    "cv2.waitKey(0)"
   ]
  },
  {
   "cell_type": "markdown",
   "metadata": {},
   "source": [
    "### 绘制表盘刻度"
   ]
  },
  {
   "cell_type": "code",
   "execution_count": 10,
   "metadata": {},
   "outputs": [
    {
     "data": {
      "text/plain": [
       "-1"
      ]
     },
     "execution_count": 10,
     "metadata": {},
     "output_type": "execute_result"
    }
   ],
   "source": [
    "pt1 = []\n",
    "\n",
    "# 3. 画出 60 条秒和分钟的刻线\n",
    "for i in range(60):\n",
    "    # 最外部圆，计算 A 点\n",
    "    x1 = center_x+(radius-margin)*math.cos(i*6*np.pi/180.0)\n",
    "    y1 = center_y+(radius-margin)*math.sin(i*6*np.pi/180.0)\n",
    "    pt1.append((int(x1), int(y1)))\n",
    "\n",
    "    # 同心小圆，计算 B 点\n",
    "    x2 = center_x+(radius-15)*math.cos(i*6*np.pi/180.0)\n",
    "    y2 = center_y+(radius-15)*math.sin(i*6*np.pi/180.0)\n",
    "\n",
    "    cv2.line(img, pt1[i], (int(x2), int(y2)), (0, 0, 0), thickness=2)\n",
    "\n",
    "# 4. 画出 12 条小时的刻线\n",
    "for i in range(12):\n",
    "    # 12 条小时刻线应该更长一点\n",
    "    x = center_x+(radius-25)*math.cos(i*30*np.pi/180.0)\n",
    "    y = center_y+(radius-25)*math.sin(i*30*np.pi/180.0)\n",
    "    # 这里用到了前面的 pt1\n",
    "    cv2.line(img, pt1[i*5], (int(x), int(y)), (0, 0, 0), thickness=5)\n",
    "\n",
    "# 到这里基本的表盘图就已经画出来了\n",
    "cv2.imshow('img', img)\n",
    "cv2.waitKey(0)"
   ]
  },
  {
   "cell_type": "code",
   "execution_count": 11,
   "metadata": {},
   "outputs": [],
   "source": [
    "while(1):\n",
    "    # 不断拷贝表盘图，才能更新绘制，不然会重叠在一起\n",
    "    temp = np.copy(img)\n",
    "\n",
    "    # 5. 获取系统时间，画出动态的时 - 分-秒三条刻线\n",
    "    now_time = datetime.datetime.now()\n",
    "    hour, minute, second = now_time.hour, now_time.minute, now_time.second\n",
    "\n",
    "    # 画秒刻线\n",
    "    # OpenCV 中的角度是顺时针计算的，所以需要转换下\n",
    "    sec_angle = second*6+270 if second <= 15 else (second-15)*6\n",
    "    sec_x = center_x+(radius-margin)*math.cos(sec_angle*np.pi/180.0)\n",
    "    sec_y = center_y+(radius-margin)*math.sin(sec_angle*np.pi/180.0)\n",
    "    cv2.line(temp, center, (int(sec_x), int(sec_y)), (203, 222, 166), 2)\n",
    "\n",
    "    # 画分刻线\n",
    "    min_angle = minute*6+270 if minute <= 15 else (minute-15)*6\n",
    "    min_x = center_x+(radius-35)*math.cos(min_angle*np.pi/180.0)\n",
    "    min_y = center_y+(radius-35)*math.sin(min_angle*np.pi/180.0)\n",
    "    cv2.line(temp, center, (int(min_x), int(min_y)), (186, 199, 137), 8)\n",
    "\n",
    "    # 画时刻线\n",
    "    hour_angle = hour*30+270 if hour <= 3 else (hour-3)*30\n",
    "    hour_x = center_x+(radius-65)*math.cos(hour_angle*np.pi/180.0)\n",
    "    hour_y = center_y+(radius-65)*math.sin(hour_angle*np.pi/180.0)\n",
    "    cv2.line(temp, center, (int(hour_x), int(hour_y)), (169, 198, 26), 15)\n",
    "\n",
    "    # 6. 添加当前日期文字\n",
    "    font = cv2.FONT_HERSHEY_SIMPLEX\n",
    "    time_str = now_time.strftime(\"%d/%m/%Y\")\n",
    "    cv2.putText(img, time_str, (135, 275), font, 1, (0, 0, 0), 2)\n",
    "\n",
    "    cv2.imshow('clocking', temp)\n",
    "    if cv2.waitKey(1) == 27:  # 按下 ESC 键退出\n",
    "        break"
   ]
  },
  {
   "cell_type": "code",
   "execution_count": null,
   "metadata": {},
   "outputs": [],
   "source": []
  }
 ],
 "metadata": {
  "kernelspec": {
   "display_name": "base",
   "language": "python",
   "name": "python3"
  },
  "language_info": {
   "codemirror_mode": {
    "name": "ipython",
    "version": 3
   },
   "file_extension": ".py",
   "mimetype": "text/x-python",
   "name": "python",
   "nbconvert_exporter": "python",
   "pygments_lexer": "ipython3",
   "version": "3.10.12"
  },
  "orig_nbformat": 4
 },
 "nbformat": 4,
 "nbformat_minor": 2
}
