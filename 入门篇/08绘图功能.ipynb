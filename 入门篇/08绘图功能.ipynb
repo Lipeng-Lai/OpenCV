{
 "cells": [
  {
   "cell_type": "markdown",
   "metadata": {},
   "source": [
    "## line画直线\n",
    "\n",
    "指定起点和终点的坐标"
   ]
  },
  {
   "cell_type": "code",
   "execution_count": 1,
   "metadata": {},
   "outputs": [
    {
     "data": {
      "text/plain": [
       "-1"
      ]
     },
     "execution_count": 1,
     "metadata": {},
     "output_type": "execute_result"
    }
   ],
   "source": [
    "import cv2\n",
    "import numpy as np\n",
    "import matplotlib.pyplot as plt\n",
    "\n",
    "# 创建一副黑色的图片\n",
    "img = np.zeros((512, 512, 3), np.uint8)\n",
    "\n",
    "# 画一条线宽5的蓝色直线，参数2：起点，参数3：终点\n",
    "cv2.line(img, (0, 0), (512, 512), (255, 0, 0), 5)\n",
    "cv2.imwrite('line.jpg', img)\n",
    "cv2.imshow('img', img)\n",
    "cv2.waitKey(0)"
   ]
  },
  {
   "cell_type": "markdown",
   "metadata": {},
   "source": [
    "## rectangle画矩形\n",
    "\n",
    "指定左上角和右下角的坐标"
   ]
  },
  {
   "cell_type": "code",
   "execution_count": 3,
   "metadata": {},
   "outputs": [
    {
     "data": {
      "text/plain": [
       "-1"
      ]
     },
     "execution_count": 3,
     "metadata": {},
     "output_type": "execute_result"
    }
   ],
   "source": [
    "# 画一个绿色边框的矩形，参数 2：左上角坐标，参数 3：右下角坐标\n",
    "cv2.rectangle(img, (384, 0), (510, 128), (0, 255, 0), 3)\n",
    "cv2.imwrite('matrix.jpg', img)\n",
    "cv2.imshow('img', img)\n",
    "cv2.waitKey(0)"
   ]
  },
  {
   "cell_type": "markdown",
   "metadata": {},
   "source": [
    "## circle画圆\n",
    "\n",
    "画圆需要指定圆心和半径"
   ]
  },
  {
   "cell_type": "code",
   "execution_count": 5,
   "metadata": {},
   "outputs": [
    {
     "data": {
      "text/plain": [
       "-1"
      ]
     },
     "execution_count": 5,
     "metadata": {},
     "output_type": "execute_result"
    }
   ],
   "source": [
    "# 画一个填充红色的原，参数2：圆心坐标，参数3：半径\n",
    "cv2.circle(img, (447, 63), 63, (0, 0, 255), -1)\n",
    "cv2.imwrite('circle.jpg', img)\n",
    "cv2.imshow('img', img)\n",
    "cv2.waitKey(0)"
   ]
  },
  {
   "cell_type": "markdown",
   "metadata": {},
   "source": [
    "## ellipse画椭圆\n",
    "\n",
    "1. 参数2：椭圆中心点坐标\n",
    "2. 参数3：x/y轴的长度\n",
    "3. 参数4：angle椭圆的旋转角度\n",
    "4. 参数5：startAngle椭圆的起始角度\n",
    "5. 参数6：endAngle椭圆的结束角度"
   ]
  },
  {
   "cell_type": "code",
   "execution_count": 6,
   "metadata": {},
   "outputs": [
    {
     "data": {
      "text/plain": [
       "-1"
      ]
     },
     "execution_count": 6,
     "metadata": {},
     "output_type": "execute_result"
    }
   ],
   "source": [
    "# 在图中心画一个填充的半圆\n",
    "cv2.ellipse(img, (256, 256), (100, 50), 0, 0, 180, (255, 0, 0), -1)\n",
    "cv2.imwrite('ellipse.jpg', img)\n",
    "cv2.imshow('img', img)\n",
    "cv2.waitKey(0)"
   ]
  },
  {
   "cell_type": "markdown",
   "metadata": {},
   "source": [
    "## 画多边形\n",
    "\n",
    "需要指定一系列多边形的顶点坐标，相当于从第一个点到第二个点画直线，\n",
    "再从第二个点到第三个点画直线....\n",
    "\n",
    "OpenCV需要将多边形的顶点坐标变成顶点数 $ \\times 1 \\times 2$维的矩阵，再进行绘制"
   ]
  },
  {
   "cell_type": "code",
   "execution_count": 7,
   "metadata": {},
   "outputs": [
    {
     "data": {
      "text/plain": [
       "-1"
      ]
     },
     "execution_count": 7,
     "metadata": {},
     "output_type": "execute_result"
    }
   ],
   "source": [
    "# 定义4个顶点坐标\n",
    "pts = np.array([[10, 5], [50, 10], [70, 20], [20, 30]], np.int32)\n",
    "# 顶点个数：4 矩阵变成：4 * 1 * 2维\n",
    "pts = pts.reshape((-1, 1, 2))\n",
    "cv2.polylines(img, [pts], True, (0, 255, 255))\n",
    "cv2.imwrite('polylines.jpg', img)\n",
    "cv2.imshow('img', img)\n",
    "cv2.waitKey(0)"
   ]
  },
  {
   "cell_type": "markdown",
   "metadata": {},
   "source": [
    "## putText添加文字\n",
    "\n",
    "1. 要添加的文本\n",
    "2. 文字的起始坐标\n",
    "3. 字体\n",
    "4. 文字大小"
   ]
  },
  {
   "cell_type": "code",
   "execution_count": 8,
   "metadata": {},
   "outputs": [
    {
     "data": {
      "text/plain": [
       "-1"
      ]
     },
     "execution_count": 8,
     "metadata": {},
     "output_type": "execute_result"
    }
   ],
   "source": [
    "# 添加文字\n",
    "font = cv2.FONT_HERSHEY_SIMPLEX\n",
    "cv2.putText(img, 'ex2tron', (10, 500), font,\n",
    "            4, (255, 255, 255), 2, lineType=cv2.LINE_AA)\n",
    "cv2.imwrite('Word.jpg', img)\n",
    "cv2.imshow('img', img)\n",
    "cv2.waitKey(0)"
   ]
  },
  {
   "cell_type": "code",
   "execution_count": null,
   "metadata": {},
   "outputs": [],
   "source": []
  }
 ],
 "metadata": {
  "kernelspec": {
   "display_name": "base",
   "language": "python",
   "name": "python3"
  },
  "language_info": {
   "codemirror_mode": {
    "name": "ipython",
    "version": 3
   },
   "file_extension": ".py",
   "mimetype": "text/x-python",
   "name": "python",
   "nbconvert_exporter": "python",
   "pygments_lexer": "ipython3",
   "version": "3.10.12"
  },
  "orig_nbformat": 4
 },
 "nbformat": 4,
 "nbformat_minor": 2
}
