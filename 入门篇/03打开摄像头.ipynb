{
 "cells": [
  {
   "cell_type": "markdown",
   "metadata": {},
   "source": [
    "## 打开摄像头\n",
    "\n",
    "使用cv2.VideoCapture(0)创建VideoCapture对象，参数0指的是摄像头的编号，如果电脑上\n",
    "有两个摄像头的话，访问第2个摄像头可以传入1，以此类推"
   ]
  },
  {
   "cell_type": "code",
   "execution_count": 2,
   "metadata": {},
   "outputs": [
    {
     "name": "stdout",
     "output_type": "stream",
     "text": [
      "640.0 480.0\n"
     ]
    },
    {
     "ename": "KeyboardInterrupt",
     "evalue": "",
     "output_type": "error",
     "traceback": [
      "\u001b[1;31m---------------------------------------------------------------------------\u001b[0m",
      "\u001b[1;31mKeyboardInterrupt\u001b[0m                         Traceback (most recent call last)",
      "Cell \u001b[1;32mIn[2], line 17\u001b[0m\n\u001b[0;32m     13\u001b[0m capture\u001b[39m.\u001b[39mset(cv2\u001b[39m.\u001b[39mCAP_PROP_FRAME_HEIGHT, height \u001b[39m*\u001b[39m \u001b[39m2\u001b[39m)\n\u001b[0;32m     15\u001b[0m \u001b[39mwhile\u001b[39;00m(\u001b[39mTrue\u001b[39;00m):\n\u001b[0;32m     16\u001b[0m     \u001b[39m# 获取一帧\u001b[39;00m\n\u001b[1;32m---> 17\u001b[0m     ret, frame \u001b[39m=\u001b[39m capture\u001b[39m.\u001b[39;49mread()\n\u001b[0;32m     18\u001b[0m     \u001b[39m# 将这帧转换为灰度图\u001b[39;00m\n\u001b[0;32m     19\u001b[0m     gray \u001b[39m=\u001b[39m cv2\u001b[39m.\u001b[39mcvtColor(frame, cv2\u001b[39m.\u001b[39mCOLOR_BGR2GRAY)\n",
      "\u001b[1;31mKeyboardInterrupt\u001b[0m: "
     ]
    }
   ],
   "source": [
    "# 打开摄像头并灰度化显示\n",
    "import cv2\n",
    "\n",
    "capture = cv2.VideoCapture(0)\n",
    "\n",
    "# 获取捕获的分辨率\n",
    "# propId 可以直接写数字，也可以用 OpenCV 的符号表示\n",
    "width, height = capture.get(3), capture.get(4)\n",
    "print(width, height)\n",
    "\n",
    "# 以原分辨率的一倍来捕获\n",
    "capture.set(cv2.CAP_PROP_FRAME_WIDTH, width * 2)\n",
    "capture.set(cv2.CAP_PROP_FRAME_HEIGHT, height * 2)\n",
    "\n",
    "while(True):\n",
    "    # 获取一帧\n",
    "    ret, frame = capture.read()\n",
    "    # 将这帧转换为灰度图\n",
    "    gray = cv2.cvtColor(frame, cv2.COLOR_BGR2GRAY)\n",
    "\n",
    "    cv2.imshow('frame', gray)\n",
    "    if cv2.waitKey(1) == ord('q'):\n",
    "        break"
   ]
  },
  {
   "cell_type": "markdown",
   "metadata": {},
   "source": [
    "## 播放本地视频\n",
    "\n",
    "把摄像头的编号换成视频的路径就可以播放本地视频，对于cv2.waitKey()，它的参数\n",
    "表示暂停时间，这个值越大，视频播放速度就越慢，反之，播放速度越快，通常设置\n",
    "为25或30"
   ]
  },
  {
   "cell_type": "code",
   "execution_count": 4,
   "metadata": {},
   "outputs": [
    {
     "ename": "KeyboardInterrupt",
     "evalue": "",
     "output_type": "error",
     "traceback": [
      "\u001b[1;31m---------------------------------------------------------------------------\u001b[0m",
      "\u001b[1;31mKeyboardInterrupt\u001b[0m                         Traceback (most recent call last)",
      "Cell \u001b[1;32mIn[4], line 8\u001b[0m\n\u001b[0;32m      5\u001b[0m gray \u001b[39m=\u001b[39m cv2\u001b[39m.\u001b[39mcvtColor(frame, cv2\u001b[39m.\u001b[39mCOLOR_BGR2GRAY)\n\u001b[0;32m      7\u001b[0m cv2\u001b[39m.\u001b[39mimshow(\u001b[39m'\u001b[39m\u001b[39mframe\u001b[39m\u001b[39m'\u001b[39m, gray)\n\u001b[1;32m----> 8\u001b[0m \u001b[39mif\u001b[39;00m cv2\u001b[39m.\u001b[39;49mwaitKey(\u001b[39m30\u001b[39;49m) \u001b[39m==\u001b[39m \u001b[39mord\u001b[39m(\u001b[39m'\u001b[39m\u001b[39mq\u001b[39m\u001b[39m'\u001b[39m):\n\u001b[0;32m      9\u001b[0m     \u001b[39mbreak\u001b[39;00m\n",
      "\u001b[1;31mKeyboardInterrupt\u001b[0m: "
     ]
    }
   ],
   "source": [
    "capture = cv2.VideoCapture('01.mp4')\n",
    "\n",
    "while(capture.isOpened()):\n",
    "    ret, frame = capture.read()\n",
    "    gray = cv2.cvtColor(frame, cv2.COLOR_BGR2GRAY)\n",
    "\n",
    "    cv2.imshow('frame', gray)\n",
    "    if cv2.waitKey(30) == ord('q'):\n",
    "        break"
   ]
  },
  {
   "cell_type": "markdown",
   "metadata": {},
   "source": [
    "## 录制视频\n",
    "\n",
    "对于保存的图片使用的cv2.imwrite()， 对此需要创建一个VideoWrite的对象，需要传入\n",
    "4个参数\n",
    "\n",
    "1. 输出的文件名\n",
    "2. 编码方式FourCC码\n",
    "3. 帧率FPS\n",
    "4. 要保存的分辨率大小"
   ]
  },
  {
   "cell_type": "code",
   "execution_count": 6,
   "metadata": {},
   "outputs": [
    {
     "ename": "",
     "evalue": "",
     "output_type": "error",
     "traceback": [
      "\u001b[1;31m在当前单元格或上一个单元格中执行代码时 Kernel 崩溃。请查看单元格中的代码，以确定故障的可能原因。有关详细信息，请单击 <a href='https://aka.ms/vscodeJupyterKernelCrash'>此处</a>。有关更多详细信息，请查看 Jupyter <a href='command:jupyter.viewOutput'>log</a>。"
     ]
    }
   ],
   "source": [
    "capture = cv2.VideoCapture(0)\n",
    "\n",
    "# 定义编码方式并创建VideoWrite对象\n",
    "fourcc = cv2.VideoWriter_fourcc(*'MJPG')\n",
    "outfile = cv2.VideoWriter('output.mp4', fourcc, 25, (640, 480))\n",
    "\n",
    "while(capture.isOpened()):\n",
    "    ret, frame = capture.read()\n",
    "\n",
    "    if ret:\n",
    "        outfile.write(frame) # 写入文件\n",
    "        cv2.imshow('frame', frame)\n",
    "        if cv2.waitKey(1) == ord('q'):\n",
    "            break\n",
    "    else:\n",
    "        break"
   ]
  },
  {
   "cell_type": "code",
   "execution_count": null,
   "metadata": {},
   "outputs": [],
   "source": []
  }
 ],
 "metadata": {
  "kernelspec": {
   "display_name": "base",
   "language": "python",
   "name": "python3"
  },
  "language_info": {
   "codemirror_mode": {
    "name": "ipython",
    "version": 3
   },
   "file_extension": ".py",
   "mimetype": "text/x-python",
   "name": "python",
   "nbconvert_exporter": "python",
   "pygments_lexer": "ipython3",
   "version": "3.10.12"
  },
  "orig_nbformat": 4
 },
 "nbformat": 4,
 "nbformat_minor": 2
}
